{
 "cells": [
  {
   "cell_type": "code",
   "execution_count": 142,
   "metadata": {
    "collapsed": true
   },
   "outputs": [],
   "source": [
    "import torch.nn as nn\n",
    "import torch\n",
    "import torch.optim as optim\n",
    "import numpy as np\n",
    "import struct\n",
    "import matplotlib.pyplot as plt"
   ]
  },
  {
   "cell_type": "code",
   "execution_count": null,
   "outputs": [],
   "source": [
    "train_image = open('train-images.idx3-ubyte', 'rb')\n",
    "test_image = open('t10k-images.idx3-ubyte', 'rb')\n",
    "train_label = open('train-labels.idx1-ubyte', 'rb')\n",
    "test_label = open('t10k-labels.idx1-ubyte', 'rb')"
   ],
   "metadata": {
    "collapsed": false
   }
  },
  {
   "cell_type": "code",
   "execution_count": null,
   "outputs": [],
   "source": [
    "# 按照给定的格式进行解析，不知道干啥用的 尤其是这个>II 没太搞懂，而且他这块只弄标签\n",
    "magic, n = struct.unpack('>II', train_label.read(8))"
   ],
   "metadata": {
    "collapsed": false
   }
  },
  {
   "cell_type": "code",
   "execution_count": null,
   "outputs": [],
   "source": [
    "# 原始数据的标签 从文本或二进制文件中的数据构造一个数组\n",
    "# uint8类型的数据对象可以保证数组内的所有数值的大小都在 [0, 255]之间。 而图像数据中的每个像素点的值都是256个灰度级\n",
    "# ndmin代表数组的维数\n",
    "y_train_label = np.array(np.fromfile(train_label, dtype=np.uint8), ndmin=1)\n",
    "print(y_train_label)\n",
    "print(len(y_train_label))"
   ],
   "metadata": {
    "collapsed": false
   }
  },
  {
   "cell_type": "code",
   "execution_count": null,
   "outputs": [],
   "source": [
    "# 我的理解是10行60000列，每个的值是0.01\n",
    "# 有一个小问题 这里是不是应该是0.001\n",
    "y_train = np.ones((10, 60000)) * 0.01\n",
    "print(y_train)\n",
    "print(np.size(y_train,0)) # 行数\n",
    "print(np.size(y_train,1)) # 列数"
   ],
   "metadata": {
    "collapsed": false
   }
  },
  {
   "cell_type": "code",
   "execution_count": null,
   "outputs": [],
   "source": [
    "# y_train现在是10行60000列\n",
    "# 训练样本总共有60000个 相当于把每一个样本的那一列的label的那一行标注为1\n",
    "for i in range(60000):\n",
    "    y_train[y_train_label[i]][i] = 0.99\n",
    "print(y_train)"
   ],
   "metadata": {
    "collapsed": false
   }
  },
  {
   "cell_type": "code",
   "execution_count": null,
   "outputs": [],
   "source": [
    "# 测试数据加载\n",
    "magic_t, n_t = struct.unpack('>II',test_label.read(8))\n",
    "# 测试的标签结果\n",
    "y_test = np.fromfile(test_label,dtype=np.uint8).reshape(10000, 1)\n",
    "print(y_test)"
   ],
   "metadata": {
    "collapsed": false
   }
  },
  {
   "cell_type": "code",
   "execution_count": null,
   "outputs": [],
   "source": [
    "# 在这里magic和第二个cell中的magic不冲突么？\n",
    "# 还是这里unpack不太懂\n",
    "magic, num, rows, cols = struct.unpack('>IIII', train_image.read(16))\n",
    "print(magic,num,rows,cols)\n",
    "# x_train的构成 60000行 784列\n",
    "# 相当于60000个测试样例被一列一列展开了\n",
    "x_train = np.fromfile(train_image, dtype=np.uint8).reshape(len(y_train_label), 784)\n",
    "print(x_train)\n",
    "print(np.size(x_train,0)) # 行数\n",
    "print(np.size(x_train,1)) # 列数"
   ],
   "metadata": {
    "collapsed": false
   }
  },
  {
   "cell_type": "code",
   "execution_count": null,
   "outputs": [],
   "source": [
    "# 这个magic真的不知道在干嘛\n",
    "magic_2, num_2, rows_2, cols_2 = struct.unpack('>IIII', test_image.read(16))\n",
    "print(magic_2,num_2,rows_2,cols_2)\n",
    "x_test = np.fromfile(test_image, dtype=np.uint8).reshape(len(y_test), 784)\n",
    "print(x_test)\n",
    "# 测试样例10000行784列\n",
    "# 测试样例被按列展开了\n",
    "print(np.size(x_test,0)) # 行数\n",
    "print(np.size(x_test,1)) # 列数"
   ],
   "metadata": {
    "collapsed": false
   }
  },
  {
   "cell_type": "code",
   "execution_count": null,
   "outputs": [],
   "source": [
    "train_image.close()\n",
    "train_label.close()\n",
    "test_image.close()\n",
    "test_label.close()"
   ],
   "metadata": {
    "collapsed": false
   }
  },
  {
   "cell_type": "code",
   "execution_count": null,
   "outputs": [],
   "source": [
    "class convolution_neural_network(nn.Module):\n",
    "    def __init__(self):\n",
    "        super(convolution_neural_network, self).__init__()\n",
    "\n",
    "        # 定义卷积层\n",
    "        self.conv = nn.Sequential(\n",
    "            nn.Conv2d(in_channels=1, out_channels=6, kernel_size=5, stride=1, padding=0),  # 28x28x1-->24x24x6\n",
    "            nn.Sigmoid(),\n",
    "            nn.MaxPool2d(kernel_size=2, stride=2),  # 12x12x6\n",
    "            nn.Conv2d(in_channels=6, out_channels=16, kernel_size=5, stride=1, padding=0),  # 8x8x16\n",
    "            nn.Sigmoid(),\n",
    "            nn.MaxPool2d(kernel_size=2, stride=2)  # 4x4x16\n",
    "        )\n",
    "        self.fc = nn.Sequential(\n",
    "            nn.Linear(in_features=256, out_features=120),\n",
    "            nn.Sigmoid(),\n",
    "            nn.Linear(in_features=120, out_features=84),\n",
    "            nn.Sigmoid(),\n",
    "            nn.Linear(in_features=84, out_features=10),\n",
    "        )\n",
    "\n",
    "    def forward(self, img):\n",
    "        feature = self.conv(img)\n",
    "        output = self.fc(feature.view(img.shape[0], -1))\n",
    "        return output"
   ],
   "metadata": {
    "collapsed": false
   }
  }
 ],
 "metadata": {
  "kernelspec": {
   "display_name": "Python 3",
   "language": "python",
   "name": "python3"
  },
  "language_info": {
   "codemirror_mode": {
    "name": "ipython",
    "version": 2
   },
   "file_extension": ".py",
   "mimetype": "text/x-python",
   "name": "python",
   "nbconvert_exporter": "python",
   "pygments_lexer": "ipython2",
   "version": "2.7.6"
  }
 },
 "nbformat": 4,
 "nbformat_minor": 0
}
